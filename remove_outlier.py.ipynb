{
 "cells": [
  {
   "cell_type": "code",
   "execution_count": 1,
   "metadata": {},
   "outputs": [],
   "source": [
    "#Code for 1 and 2 \n",
    "import pandas as pd\n",
    "import numpy as np\n",
    "import seaborn as sns\n",
    "import matplotlib.pyplot as plt\n",
    "%matplotlib inline\n",
    "\n",
    "from scipy import stats\n",
    "\n",
    "import warnings\n",
    "warnings.filterwarnings('ignore')"
   ]
  },
  {
   "cell_type": "code",
   "execution_count": 2,
   "metadata": {},
   "outputs": [],
   "source": [
    "#Read the primary and secondary sales files\n",
    "secondary_sales = pd.read_csv(\"WC_DS_Ex1_Sec_Sales.csv\",parse_dates=[3],index_col=[3]).sort_index()\n",
    "primary_sales = pd.read_csv(\"WC_DS_Ex1_Pri_Sales.csv\",parse_dates=[3],index_col=[3]).sort_index()\n",
    "invoice_record = pd.read_csv(\"WC_DS_EX1_Inv.csv\",parse_dates=[3],index_col=[3]).sort_index()"
   ]
  },
  {
   "cell_type": "markdown",
   "metadata": {},
   "source": [
    "# ANALYSIS ON STORE BASIS ON SECONDARY SALE"
   ]
  },
  {
   "cell_type": "code",
   "execution_count": 3,
   "metadata": {},
   "outputs": [],
   "source": [
    "def store_feature(df,store_code):\n",
    "    Store =  df['Store_Code'] == store_code\n",
    "    Store_secondary_sales = df[Store]\n",
    "    Store_secondary_sales_week = pd.DataFrame()\n",
    "    Store_secondary_sales_week_sum = Store_secondary_sales[['Sales_Qty']].resample('W').sum()    \n",
    "    Store_secondary_sales_week_mean = Store_secondary_sales[['MRP','SP']].resample('W').mean()\n",
    "    Store_secondary_sales_week['MRP'] = Store_secondary_sales_week_mean['MRP']\n",
    "    Store_secondary_sales_week['SP'] = Store_secondary_sales_week_mean['SP']\n",
    "    Store_secondary_sales_week['Promotions'] = 1-Store_secondary_sales_week['SP']/Store_secondary_sales_week['MRP']\n",
    "    Store_secondary_sales_week['Store_Code'] = store_code\n",
    "    Store_secondary_sales_week['Sales_Qty'] = Store_secondary_sales_week_sum['Sales_Qty']\n",
    "    return Store_secondary_sales_week"
   ]
  },
  {
   "cell_type": "code",
   "execution_count": 4,
   "metadata": {},
   "outputs": [],
   "source": [
    "Store1_secondary_sales_week = store_feature(secondary_sales,'Store1')"
   ]
  },
  {
   "cell_type": "code",
   "execution_count": 5,
   "metadata": {},
   "outputs": [
    {
     "data": {
      "text/plain": [
       "MRP           4\n",
       "SP            4\n",
       "Promotions    4\n",
       "Store_Code    0\n",
       "Sales_Qty     0\n",
       "dtype: int64"
      ]
     },
     "execution_count": 5,
     "metadata": {},
     "output_type": "execute_result"
    }
   ],
   "source": [
    "Store1_secondary_sales_week.isna().sum()"
   ]
  },
  {
   "cell_type": "markdown",
   "metadata": {},
   "source": [
    "Handling missing values"
   ]
  },
  {
   "cell_type": "code",
   "execution_count": 6,
   "metadata": {},
   "outputs": [
    {
     "data": {
      "text/plain": [
       "MRP           0\n",
       "SP            0\n",
       "Promotions    0\n",
       "Store_Code    0\n",
       "Sales_Qty     0\n",
       "dtype: int64"
      ]
     },
     "execution_count": 6,
     "metadata": {},
     "output_type": "execute_result"
    }
   ],
   "source": [
    "Store1_secondary_sales_week.dropna(how='any',inplace=True)\n",
    "Store1_secondary_sales_week.isna().sum()"
   ]
  },
  {
   "cell_type": "markdown",
   "metadata": {},
   "source": [
    "# Techniques for outlier detection"
   ]
  },
  {
   "cell_type": "code",
   "execution_count": 7,
   "metadata": {},
   "outputs": [
    {
     "data": {
      "text/plain": [
       "<matplotlib.axes._subplots.AxesSubplot at 0x210a8ed0470>"
      ]
     },
     "execution_count": 7,
     "metadata": {},
     "output_type": "execute_result"
    },
    {
     "data": {
      "image/png": "[encoded data removed]",
      "text/plain": [
       "<Figure size 432x288 with 1 Axes>"
      ]
     },
     "metadata": {},
     "output_type": "display_data"
    }
   ],
   "source": [
    "Store1_secondary_sales_week.plot.scatter('Sales_Qty','Promotions')"
   ]
  },
  {
   "cell_type": "code",
   "execution_count": 8,
   "metadata": {},
   "outputs": [],
   "source": [
    "def remove_outlier(df,column):\n",
    "    #Remove outlier on the basis of that column\n",
    "    #Threshold is 3\n",
    "    Store_secondary_sales_week_nooutlier = pd.DataFrame()\n",
    "    df['Z-score'] = np.abs(stats.zscore(df[column]))\n",
    "    Z =  df['Z-score'] < 3\n",
    "    Store_secondary_sales_week_nooutlier = df[Z]\n",
    "    print(Z.value_counts())\n",
    "    print(\"False count shows the number of outliers\")\n",
    "    Store_secondary_sales_week_nooutlier.drop(columns=['Z-score'],axis=1,inplace=True)\n",
    "    return Store_secondary_sales_week_nooutlier"
   ]
  },
  {
   "cell_type": "code",
   "execution_count": 9,
   "metadata": {},
   "outputs": [
    {
     "name": "stdout",
     "output_type": "stream",
     "text": [
      "True     100\n",
      "False      1\n",
      "Name: Z-score, dtype: int64\n",
      "False count shows the number of outliers\n"
     ]
    }
   ],
   "source": [
    "Store1_secondary_sales_week_nooutlier = remove_outlier(Store1_secondary_sales_week,'Sales_Qty')"
   ]
  },
  {
   "cell_type": "code",
   "execution_count": 10,
   "metadata": {},
   "outputs": [
    {
     "name": "stdout",
     "output_type": "stream",
     "text": [
      "True    100\n",
      "Name: Z-score, dtype: int64\n",
      "False count shows the number of outliers\n"
     ]
    }
   ],
   "source": [
    "Store1_secondary_sales_week_nooutlier = remove_outlier(Store1_secondary_sales_week_nooutlier,'Promotions')"
   ]
  },
  {
   "cell_type": "code",
   "execution_count": 11,
   "metadata": {},
   "outputs": [
    {
     "data": {
      "text/html": [
       "<div>\n",
       "<style scoped>\n",
       "    .dataframe tbody tr th:only-of-type {\n",
       "        vertical-align: middle;\n",
       "    }\n",
       "\n",
       "    .dataframe tbody tr th {\n",
       "        vertical-align: top;\n",
       "    }\n",
       "\n",
       "    .dataframe thead th {\n",
       "        text-align: right;\n",
       "    }\n",
       "</style>\n",
       "<table border=\"1\" class=\"dataframe\">\n",
       "  <thead>\n",
       "    <tr style=\"text-align: right;\">\n",
       "      <th></th>\n",
       "      <th>Date</th>\n",
       "      <th>MRP</th>\n",
       "      <th>SP</th>\n",
       "      <th>Promotions</th>\n",
       "      <th>Store_Code</th>\n",
       "      <th>Sales_Qty</th>\n",
       "    </tr>\n",
       "  </thead>\n",
       "  <tbody>\n",
       "    <tr>\n",
       "      <th>0</th>\n",
       "      <td>2016-01-03</td>\n",
       "      <td>958.333333</td>\n",
       "      <td>826.674242</td>\n",
       "      <td>0.137383</td>\n",
       "      <td>Store1</td>\n",
       "      <td>60</td>\n",
       "    </tr>\n",
       "    <tr>\n",
       "      <th>1</th>\n",
       "      <td>2016-01-10</td>\n",
       "      <td>812.976190</td>\n",
       "      <td>721.057143</td>\n",
       "      <td>0.113065</td>\n",
       "      <td>Store1</td>\n",
       "      <td>72</td>\n",
       "    </tr>\n",
       "    <tr>\n",
       "      <th>2</th>\n",
       "      <td>2016-01-17</td>\n",
       "      <td>939.885496</td>\n",
       "      <td>753.539695</td>\n",
       "      <td>0.198264</td>\n",
       "      <td>Store1</td>\n",
       "      <td>125</td>\n",
       "    </tr>\n",
       "    <tr>\n",
       "      <th>3</th>\n",
       "      <td>2016-01-24</td>\n",
       "      <td>865.000000</td>\n",
       "      <td>717.332000</td>\n",
       "      <td>0.170714</td>\n",
       "      <td>Store1</td>\n",
       "      <td>65</td>\n",
       "    </tr>\n",
       "    <tr>\n",
       "      <th>4</th>\n",
       "      <td>2016-01-31</td>\n",
       "      <td>876.785714</td>\n",
       "      <td>751.913393</td>\n",
       "      <td>0.142421</td>\n",
       "      <td>Store1</td>\n",
       "      <td>100</td>\n",
       "    </tr>\n",
       "  </tbody>\n",
       "</table>\n",
       "</div>"
      ],
      "text/plain": [
       "        Date         MRP          SP  Promotions Store_Code  Sales_Qty\n",
       "0 2016-01-03  958.333333  826.674242    0.137383     Store1         60\n",
       "1 2016-01-10  812.976190  721.057143    0.113065     Store1         72\n",
       "2 2016-01-17  939.885496  753.539695    0.198264     Store1        125\n",
       "3 2016-01-24  865.000000  717.332000    0.170714     Store1         65\n",
       "4 2016-01-31  876.785714  751.913393    0.142421     Store1        100"
      ]
     },
     "execution_count": 11,
     "metadata": {},
     "output_type": "execute_result"
    }
   ],
   "source": [
    "Store1_secondary_sales_week_nooutlier.reset_index(inplace=True)\n",
    "Store1_secondary_sales_week_nooutlier.head()"
   ]
  },
  {
   "cell_type": "code",
   "execution_count": 35,
   "metadata": {},
   "outputs": [
    {
     "data": {
      "image/png": "[encoded data removed]",
      "text/plain": [
       "<Figure size 432x288 with 1 Axes>"
      ]
     },
     "metadata": {},
     "output_type": "display_data"
    }
   ],
   "source": [
    "L1 = sns.pointplot(x=Store1_secondary_sales_week.index,y=Store1_secondary_sales_week['Promotions'])"
   ]
  },
  {
   "cell_type": "markdown",
   "metadata": {},
   "source": [
    "Here we have one outlier in the sales quantity . Possible solutions to deal with outliers remove the obseravations or impute the outliers with the either mean,median or mode. Here we are removing the rows containing outliers."
   ]
  },
  {
   "cell_type": "code",
   "execution_count": 61,
   "metadata": {},
   "outputs": [
    {
     "data": {
      "text/plain": [
       "(100, 6)"
      ]
     },
     "execution_count": 61,
     "metadata": {},
     "output_type": "execute_result"
    }
   ],
   "source": [
    "Store1_secondary_sales_week_nooutlier.shape"
   ]
  },
  {
   "cell_type": "markdown",
   "metadata": {},
   "source": [
    "# For Store2"
   ]
  },
  {
   "cell_type": "code",
   "execution_count": 23,
   "metadata": {},
   "outputs": [],
   "source": [
    "Store2_secondary_sales_week = store_feature(secondary_sales,'Store2')"
   ]
  },
  {
   "cell_type": "code",
   "execution_count": 24,
   "metadata": {},
   "outputs": [
    {
     "data": {
      "text/plain": [
       "MRP           0\n",
       "SP            0\n",
       "Promotions    0\n",
       "Store_Code    0\n",
       "Sales_Qty     0\n",
       "Z-score       0\n",
       "dtype: int64"
      ]
     },
     "execution_count": 24,
     "metadata": {},
     "output_type": "execute_result"
    }
   ],
   "source": [
    "Store1_secondary_sales_week.isna().sum()"
   ]
  },
  {
   "cell_type": "code",
   "execution_count": 25,
   "metadata": {},
   "outputs": [
    {
     "name": "stdout",
     "output_type": "stream",
     "text": [
      "True     104\n",
      "False      1\n",
      "Name: Z-score, dtype: int64\n",
      "False count shows the number of outliers\n"
     ]
    }
   ],
   "source": [
    "Store2_secondary_sales_week_nooutlier = remove_outlier(Store2_secondary_sales_week,'Sales_Qty')"
   ]
  },
  {
   "cell_type": "code",
   "execution_count": 26,
   "metadata": {},
   "outputs": [
    {
     "data": {
      "text/html": [
       "<div>\n",
       "<style scoped>\n",
       "    .dataframe tbody tr th:only-of-type {\n",
       "        vertical-align: middle;\n",
       "    }\n",
       "\n",
       "    .dataframe tbody tr th {\n",
       "        vertical-align: top;\n",
       "    }\n",
       "\n",
       "    .dataframe thead th {\n",
       "        text-align: right;\n",
       "    }\n",
       "</style>\n",
       "<table border=\"1\" class=\"dataframe\">\n",
       "  <thead>\n",
       "    <tr style=\"text-align: right;\">\n",
       "      <th></th>\n",
       "      <th>MRP</th>\n",
       "      <th>SP</th>\n",
       "      <th>Promotions</th>\n",
       "      <th>Store_Code</th>\n",
       "      <th>Sales_Qty</th>\n",
       "    </tr>\n",
       "    <tr>\n",
       "      <th>Date</th>\n",
       "      <th></th>\n",
       "      <th></th>\n",
       "      <th></th>\n",
       "      <th></th>\n",
       "      <th></th>\n",
       "    </tr>\n",
       "  </thead>\n",
       "  <tbody>\n",
       "    <tr>\n",
       "      <th>2016-01-03</th>\n",
       "      <td>863.448276</td>\n",
       "      <td>742.005172</td>\n",
       "      <td>0.140649</td>\n",
       "      <td>Store2</td>\n",
       "      <td>54</td>\n",
       "    </tr>\n",
       "    <tr>\n",
       "      <th>2016-01-10</th>\n",
       "      <td>882.831325</td>\n",
       "      <td>768.362651</td>\n",
       "      <td>0.129661</td>\n",
       "      <td>Store2</td>\n",
       "      <td>75</td>\n",
       "    </tr>\n",
       "    <tr>\n",
       "      <th>2016-01-17</th>\n",
       "      <td>995.978261</td>\n",
       "      <td>771.275000</td>\n",
       "      <td>0.225611</td>\n",
       "      <td>Store2</td>\n",
       "      <td>84</td>\n",
       "    </tr>\n",
       "    <tr>\n",
       "      <th>2016-01-24</th>\n",
       "      <td>949.166667</td>\n",
       "      <td>740.995833</td>\n",
       "      <td>0.219320</td>\n",
       "      <td>Store2</td>\n",
       "      <td>86</td>\n",
       "    </tr>\n",
       "    <tr>\n",
       "      <th>2016-01-31</th>\n",
       "      <td>948.698630</td>\n",
       "      <td>794.210959</td>\n",
       "      <td>0.162842</td>\n",
       "      <td>Store2</td>\n",
       "      <td>69</td>\n",
       "    </tr>\n",
       "  </tbody>\n",
       "</table>\n",
       "</div>"
      ],
      "text/plain": [
       "                   MRP          SP  Promotions Store_Code  Sales_Qty\n",
       "Date                                                                \n",
       "2016-01-03  863.448276  742.005172    0.140649     Store2         54\n",
       "2016-01-10  882.831325  768.362651    0.129661     Store2         75\n",
       "2016-01-17  995.978261  771.275000    0.225611     Store2         84\n",
       "2016-01-24  949.166667  740.995833    0.219320     Store2         86\n",
       "2016-01-31  948.698630  794.210959    0.162842     Store2         69"
      ]
     },
     "execution_count": 26,
     "metadata": {},
     "output_type": "execute_result"
    }
   ],
   "source": [
    "Store2_secondary_sales_week_nooutlier.head()"
   ]
  },
  {
   "cell_type": "code",
   "execution_count": 21,
   "metadata": {},
   "outputs": [
    {
     "name": "stdout",
     "output_type": "stream",
     "text": [
      "False    104\n",
      "Name: Z-score, dtype: int64\n",
      "False count shows the number of outliers\n"
     ]
    }
   ],
   "source": [
    "#Store2_secondary_sales_week_nooutlier = remove_outlier(Store2_secondary_sales_week_nooutlier,'Promotions')"
   ]
  },
  {
   "cell_type": "code",
   "execution_count": 31,
   "metadata": {},
   "outputs": [
    {
     "data": {
      "image/png": "[encoded data removed]",
      "text/plain": [
       "<Figure size 432x288 with 1 Axes>"
      ]
     },
     "metadata": {},
     "output_type": "display_data"
    }
   ],
   "source": [
    "L1 = sns.pointplot(x=Store2_secondary_sales_week.index,y=Store2_secondary_sales_week['Promotions'])\n",
    "#Line plot does not work in jupyter notebook\n",
    "#There is lot of variations in promotions\n",
    "#And we can see the trend for promotions"
   ]
  },
  {
   "cell_type": "code",
   "execution_count": 33,
   "metadata": {},
   "outputs": [
    {
     "data": {
      "text/html": [
       "<div>\n",
       "<style scoped>\n",
       "    .dataframe tbody tr th:only-of-type {\n",
       "        vertical-align: middle;\n",
       "    }\n",
       "\n",
       "    .dataframe tbody tr th {\n",
       "        vertical-align: top;\n",
       "    }\n",
       "\n",
       "    .dataframe thead th {\n",
       "        text-align: right;\n",
       "    }\n",
       "</style>\n",
       "<table border=\"1\" class=\"dataframe\">\n",
       "  <thead>\n",
       "    <tr style=\"text-align: right;\">\n",
       "      <th></th>\n",
       "      <th>Date</th>\n",
       "      <th>MRP</th>\n",
       "      <th>SP</th>\n",
       "      <th>Promotions</th>\n",
       "      <th>Store_Code</th>\n",
       "      <th>Sales_Qty</th>\n",
       "    </tr>\n",
       "  </thead>\n",
       "  <tbody>\n",
       "    <tr>\n",
       "      <th>0</th>\n",
       "      <td>2016-01-03</td>\n",
       "      <td>863.448276</td>\n",
       "      <td>742.005172</td>\n",
       "      <td>0.140649</td>\n",
       "      <td>Store2</td>\n",
       "      <td>54</td>\n",
       "    </tr>\n",
       "    <tr>\n",
       "      <th>1</th>\n",
       "      <td>2016-01-10</td>\n",
       "      <td>882.831325</td>\n",
       "      <td>768.362651</td>\n",
       "      <td>0.129661</td>\n",
       "      <td>Store2</td>\n",
       "      <td>75</td>\n",
       "    </tr>\n",
       "    <tr>\n",
       "      <th>2</th>\n",
       "      <td>2016-01-17</td>\n",
       "      <td>995.978261</td>\n",
       "      <td>771.275000</td>\n",
       "      <td>0.225611</td>\n",
       "      <td>Store2</td>\n",
       "      <td>84</td>\n",
       "    </tr>\n",
       "    <tr>\n",
       "      <th>3</th>\n",
       "      <td>2016-01-24</td>\n",
       "      <td>949.166667</td>\n",
       "      <td>740.995833</td>\n",
       "      <td>0.219320</td>\n",
       "      <td>Store2</td>\n",
       "      <td>86</td>\n",
       "    </tr>\n",
       "    <tr>\n",
       "      <th>4</th>\n",
       "      <td>2016-01-31</td>\n",
       "      <td>948.698630</td>\n",
       "      <td>794.210959</td>\n",
       "      <td>0.162842</td>\n",
       "      <td>Store2</td>\n",
       "      <td>69</td>\n",
       "    </tr>\n",
       "  </tbody>\n",
       "</table>\n",
       "</div>"
      ],
      "text/plain": [
       "        Date         MRP          SP  Promotions Store_Code  Sales_Qty\n",
       "0 2016-01-03  863.448276  742.005172    0.140649     Store2         54\n",
       "1 2016-01-10  882.831325  768.362651    0.129661     Store2         75\n",
       "2 2016-01-17  995.978261  771.275000    0.225611     Store2         84\n",
       "3 2016-01-24  949.166667  740.995833    0.219320     Store2         86\n",
       "4 2016-01-31  948.698630  794.210959    0.162842     Store2         69"
      ]
     },
     "execution_count": 33,
     "metadata": {},
     "output_type": "execute_result"
    }
   ],
   "source": [
    "Store2_secondary_sales_week_nooutlier.reset_index(inplace=True)\n",
    "Store2_secondary_sales_week_nooutlier.head(5)"
   ]
  },
  {
   "cell_type": "markdown",
   "metadata": {},
   "source": [
    "# Store3 Analysis"
   ]
  },
  {
   "cell_type": "code",
   "execution_count": 36,
   "metadata": {},
   "outputs": [],
   "source": [
    "Store3_secondary_sales_week = store_feature(secondary_sales,'Store3')"
   ]
  },
  {
   "cell_type": "code",
   "execution_count": 37,
   "metadata": {},
   "outputs": [
    {
     "data": {
      "text/plain": [
       "MRP           4\n",
       "SP            4\n",
       "Promotions    4\n",
       "Store_Code    0\n",
       "Sales_Qty     0\n",
       "dtype: int64"
      ]
     },
     "execution_count": 37,
     "metadata": {},
     "output_type": "execute_result"
    }
   ],
   "source": [
    "Store3_secondary_sales_week.isna().sum()"
   ]
  },
  {
   "cell_type": "code",
   "execution_count": 38,
   "metadata": {},
   "outputs": [
    {
     "data": {
      "text/plain": [
       "MRP           0\n",
       "SP            0\n",
       "Promotions    0\n",
       "Store_Code    0\n",
       "Sales_Qty     0\n",
       "dtype: int64"
      ]
     },
     "execution_count": 38,
     "metadata": {},
     "output_type": "execute_result"
    }
   ],
   "source": [
    "Store3_secondary_sales_week.dropna(how='any',inplace=True)\n",
    "Store3_secondary_sales_week.isna().sum()"
   ]
  },
  {
   "cell_type": "code",
   "execution_count": 39,
   "metadata": {},
   "outputs": [
    {
     "name": "stdout",
     "output_type": "stream",
     "text": [
      "True     99\n",
      "False     2\n",
      "Name: Z-score, dtype: int64\n",
      "False count shows the number of outliers\n"
     ]
    }
   ],
   "source": [
    "Store3_secondary_sales_week_nooutlier = remove_outlier(Store3_secondary_sales_week,'Sales_Qty')"
   ]
  },
  {
   "cell_type": "code",
   "execution_count": 40,
   "metadata": {},
   "outputs": [
    {
     "name": "stdout",
     "output_type": "stream",
     "text": [
      "True    99\n",
      "Name: Z-score, dtype: int64\n",
      "False count shows the number of outliers\n"
     ]
    }
   ],
   "source": [
    "Store3_secondary_sales_week_nooutlier = remove_outlier(Store3_secondary_sales_week_nooutlier,'Promotions')"
   ]
  },
  {
   "cell_type": "code",
   "execution_count": 41,
   "metadata": {},
   "outputs": [
    {
     "data": {
      "image/png": "[encoded data removed]",
      "text/plain": [
       "<Figure size 432x288 with 1 Axes>"
      ]
     },
     "metadata": {},
     "output_type": "display_data"
    }
   ],
   "source": [
    "L1 = sns.pointplot(x=Store3_secondary_sales_week.index,y=Store3_secondary_sales_week['Promotions'])"
   ]
  },
  {
   "cell_type": "code",
   "execution_count": 42,
   "metadata": {},
   "outputs": [
    {
     "data": {
      "text/html": [
       "<div>\n",
       "<style scoped>\n",
       "    .dataframe tbody tr th:only-of-type {\n",
       "        vertical-align: middle;\n",
       "    }\n",
       "\n",
       "    .dataframe tbody tr th {\n",
       "        vertical-align: top;\n",
       "    }\n",
       "\n",
       "    .dataframe thead th {\n",
       "        text-align: right;\n",
       "    }\n",
       "</style>\n",
       "<table border=\"1\" class=\"dataframe\">\n",
       "  <thead>\n",
       "    <tr style=\"text-align: right;\">\n",
       "      <th></th>\n",
       "      <th>Date</th>\n",
       "      <th>MRP</th>\n",
       "      <th>SP</th>\n",
       "      <th>Promotions</th>\n",
       "      <th>Store_Code</th>\n",
       "      <th>Sales_Qty</th>\n",
       "    </tr>\n",
       "  </thead>\n",
       "  <tbody>\n",
       "    <tr>\n",
       "      <th>0</th>\n",
       "      <td>2016-01-03</td>\n",
       "      <td>917.285714</td>\n",
       "      <td>775.398095</td>\n",
       "      <td>0.154682</td>\n",
       "      <td>Store3</td>\n",
       "      <td>97</td>\n",
       "    </tr>\n",
       "    <tr>\n",
       "      <th>1</th>\n",
       "      <td>2016-01-10</td>\n",
       "      <td>872.581699</td>\n",
       "      <td>759.466667</td>\n",
       "      <td>0.129633</td>\n",
       "      <td>Store3</td>\n",
       "      <td>139</td>\n",
       "    </tr>\n",
       "    <tr>\n",
       "      <th>2</th>\n",
       "      <td>2016-01-17</td>\n",
       "      <td>1045.824742</td>\n",
       "      <td>800.078351</td>\n",
       "      <td>0.234979</td>\n",
       "      <td>Store3</td>\n",
       "      <td>182</td>\n",
       "    </tr>\n",
       "    <tr>\n",
       "      <th>3</th>\n",
       "      <td>2016-01-24</td>\n",
       "      <td>1036.212121</td>\n",
       "      <td>810.615152</td>\n",
       "      <td>0.217713</td>\n",
       "      <td>Store3</td>\n",
       "      <td>124</td>\n",
       "    </tr>\n",
       "    <tr>\n",
       "      <th>4</th>\n",
       "      <td>2016-01-31</td>\n",
       "      <td>1012.526882</td>\n",
       "      <td>790.181720</td>\n",
       "      <td>0.219594</td>\n",
       "      <td>Store3</td>\n",
       "      <td>174</td>\n",
       "    </tr>\n",
       "  </tbody>\n",
       "</table>\n",
       "</div>"
      ],
      "text/plain": [
       "        Date          MRP          SP  Promotions Store_Code  Sales_Qty\n",
       "0 2016-01-03   917.285714  775.398095    0.154682     Store3         97\n",
       "1 2016-01-10   872.581699  759.466667    0.129633     Store3        139\n",
       "2 2016-01-17  1045.824742  800.078351    0.234979     Store3        182\n",
       "3 2016-01-24  1036.212121  810.615152    0.217713     Store3        124\n",
       "4 2016-01-31  1012.526882  790.181720    0.219594     Store3        174"
      ]
     },
     "execution_count": 42,
     "metadata": {},
     "output_type": "execute_result"
    }
   ],
   "source": [
    "Store3_secondary_sales_week_nooutlier.reset_index(inplace=True)\n",
    "Store3_secondary_sales_week_nooutlier.head(5)"
   ]
  },
  {
   "cell_type": "markdown",
   "metadata": {},
   "source": [
    "# ANALYSIS ON PRIMARY SALES ON STORE"
   ]
  },
  {
   "cell_type": "code",
   "execution_count": null,
   "metadata": {},
   "outputs": [],
   "source": [
    "    Store =  df['Store_Code'] == store_code\n",
    "    Store_secondary_sales = df[Store]\n",
    "    Store_secondary_sales_week = pd.DataFrame()\n",
    "    Store_secondary_sales_week_sum = Store_secondary_sales[['Sales_Qty']].resample('W').sum()    \n",
    "    Store_secondary_sales_week_mean = Store_secondary_sales[['MRP','SP']].resample('W').mean()\n",
    "    Store_secondary_sales_week['MRP'] = Store_secondary_sales_week_mean['MRP']\n",
    "    Store_secondary_sales_week['SP'] = Store_secondary_sales_week_mean['SP']\n",
    "    Store_secondary_sales_week['Promotions'] = 1-Store_secondary_sales_week['SP']/Store_secondary_sales_week['MRP']\n",
    "    Store_secondary_sales_week['Store_Code'] = store_code\n",
    "    Store_secondary_sales_week['Sales_Qty'] = Store_secondary_sales_week_sum['Sales_Qty']"
   ]
  },
  {
   "cell_type": "code",
   "execution_count": 43,
   "metadata": {},
   "outputs": [
    {
     "data": {
      "text/html": [
       "<div>\n",
       "<style scoped>\n",
       "    .dataframe tbody tr th:only-of-type {\n",
       "        vertical-align: middle;\n",
       "    }\n",
       "\n",
       "    .dataframe tbody tr th {\n",
       "        vertical-align: top;\n",
       "    }\n",
       "\n",
       "    .dataframe thead th {\n",
       "        text-align: right;\n",
       "    }\n",
       "</style>\n",
       "<table border=\"1\" class=\"dataframe\">\n",
       "  <thead>\n",
       "    <tr style=\"text-align: right;\">\n",
       "      <th></th>\n",
       "      <th>Store_Code</th>\n",
       "      <th>SKU_Code</th>\n",
       "      <th>Category</th>\n",
       "      <th>Qty</th>\n",
       "    </tr>\n",
       "    <tr>\n",
       "      <th>Date</th>\n",
       "      <th></th>\n",
       "      <th></th>\n",
       "      <th></th>\n",
       "      <th></th>\n",
       "    </tr>\n",
       "  </thead>\n",
       "  <tbody>\n",
       "    <tr>\n",
       "      <th>2015-12-11</th>\n",
       "      <td>Store1</td>\n",
       "      <td>603132</td>\n",
       "      <td>Cat1</td>\n",
       "      <td>2</td>\n",
       "    </tr>\n",
       "    <tr>\n",
       "      <th>2015-12-11</th>\n",
       "      <td>Store1</td>\n",
       "      <td>614490</td>\n",
       "      <td>Cat2</td>\n",
       "      <td>1</td>\n",
       "    </tr>\n",
       "    <tr>\n",
       "      <th>2015-12-11</th>\n",
       "      <td>Store3</td>\n",
       "      <td>603819</td>\n",
       "      <td>Cat2</td>\n",
       "      <td>2</td>\n",
       "    </tr>\n",
       "    <tr>\n",
       "      <th>2015-12-11</th>\n",
       "      <td>Store3</td>\n",
       "      <td>603810</td>\n",
       "      <td>Cat2</td>\n",
       "      <td>1</td>\n",
       "    </tr>\n",
       "    <tr>\n",
       "      <th>2015-12-11</th>\n",
       "      <td>Store3</td>\n",
       "      <td>603417</td>\n",
       "      <td>Cat3</td>\n",
       "      <td>1</td>\n",
       "    </tr>\n",
       "  </tbody>\n",
       "</table>\n",
       "</div>"
      ],
      "text/plain": [
       "           Store_Code  SKU_Code Category  Qty\n",
       "Date                                         \n",
       "2015-12-11     Store1    603132     Cat1    2\n",
       "2015-12-11     Store1    614490     Cat2    1\n",
       "2015-12-11     Store3    603819     Cat2    2\n",
       "2015-12-11     Store3    603810     Cat2    1\n",
       "2015-12-11     Store3    603417     Cat3    1"
      ]
     },
     "execution_count": 43,
     "metadata": {},
     "output_type": "execute_result"
    }
   ],
   "source": [
    "primary_sales.head()    "
   ]
  },
  {
   "cell_type": "code",
   "execution_count": 57,
   "metadata": {},
   "outputs": [],
   "source": [
    "def primary_feature(df,store_code):\n",
    "    Store = df['Store_Code'] == store_code\n",
    "    Store_primary_sales = df[Store]\n",
    "    Store_primary_sales.drop(columns=['SKU_Code','Category'],axis=1,inplace=True)\n",
    "    Store_primary_sales_week = Store_primary_sales.resample('W').sum()\n",
    "    print(Store_primary_sales_week.head())\n",
    "    return Store_primary_sales_week"
   ]
  },
  {
   "cell_type": "code",
   "execution_count": 58,
   "metadata": {},
   "outputs": [
    {
     "name": "stdout",
     "output_type": "stream",
     "text": [
      "            Qty\n",
      "Date           \n",
      "2015-12-13   81\n",
      "2015-12-20  346\n",
      "2015-12-27    0\n",
      "2016-01-03  130\n",
      "2016-01-10    0\n"
     ]
    }
   ],
   "source": [
    "Store1_primary_sales_week = primary_feature(primary_sales,'Store1')"
   ]
  },
  {
   "cell_type": "code",
   "execution_count": 59,
   "metadata": {},
   "outputs": [
    {
     "name": "stdout",
     "output_type": "stream",
     "text": [
      "True     105\n",
      "False      3\n",
      "Name: Z-score, dtype: int64\n",
      "False count shows the number of outliers\n"
     ]
    }
   ],
   "source": [
    "Store1_primary_sales_week_nooutlier = remove_outlier(Store1_primary_sales_week,'Qty')"
   ]
  },
  {
   "cell_type": "code",
   "execution_count": 63,
   "metadata": {},
   "outputs": [
    {
     "data": {
      "text/html": [
       "<div>\n",
       "<style scoped>\n",
       "    .dataframe tbody tr th:only-of-type {\n",
       "        vertical-align: middle;\n",
       "    }\n",
       "\n",
       "    .dataframe tbody tr th {\n",
       "        vertical-align: top;\n",
       "    }\n",
       "\n",
       "    .dataframe thead th {\n",
       "        text-align: right;\n",
       "    }\n",
       "</style>\n",
       "<table border=\"1\" class=\"dataframe\">\n",
       "  <thead>\n",
       "    <tr style=\"text-align: right;\">\n",
       "      <th></th>\n",
       "      <th>Date</th>\n",
       "      <th>Qty</th>\n",
       "    </tr>\n",
       "  </thead>\n",
       "  <tbody>\n",
       "    <tr>\n",
       "      <th>0</th>\n",
       "      <td>2015-12-13</td>\n",
       "      <td>81</td>\n",
       "    </tr>\n",
       "    <tr>\n",
       "      <th>1</th>\n",
       "      <td>2015-12-20</td>\n",
       "      <td>346</td>\n",
       "    </tr>\n",
       "    <tr>\n",
       "      <th>2</th>\n",
       "      <td>2015-12-27</td>\n",
       "      <td>0</td>\n",
       "    </tr>\n",
       "    <tr>\n",
       "      <th>3</th>\n",
       "      <td>2016-01-03</td>\n",
       "      <td>130</td>\n",
       "    </tr>\n",
       "    <tr>\n",
       "      <th>4</th>\n",
       "      <td>2016-01-10</td>\n",
       "      <td>0</td>\n",
       "    </tr>\n",
       "  </tbody>\n",
       "</table>\n",
       "</div>"
      ],
      "text/plain": [
       "        Date  Qty\n",
       "0 2015-12-13   81\n",
       "1 2015-12-20  346\n",
       "2 2015-12-27    0\n",
       "3 2016-01-03  130\n",
       "4 2016-01-10    0"
      ]
     },
     "execution_count": 63,
     "metadata": {},
     "output_type": "execute_result"
    }
   ],
   "source": [
    "Store1_primary_sales_week_nooutlier.reset_index(inplace=True)\n",
    "Store1_primary_sales_week_nooutlier.head()"
   ]
  },
  {
   "cell_type": "markdown",
   "metadata": {},
   "source": [
    "Combine primary sales and secondary sales data"
   ]
  },
  {
   "cell_type": "markdown",
   "metadata": {},
   "source": [
    "Here i am mergeing the two primary and secondary sales frame on the basis of Date as reference.\n",
    "Obervations: \n",
    "1.For 2015 in secondary_sales there is no data , so this Qty is already delivered to respective store . And sales begins after that only."
   ]
  },
  {
   "cell_type": "code",
   "execution_count": 173,
   "metadata": {},
   "outputs": [
    {
     "data": {
      "text/html": [
       "<div>\n",
       "<style scoped>\n",
       "    .dataframe tbody tr th:only-of-type {\n",
       "        vertical-align: middle;\n",
       "    }\n",
       "\n",
       "    .dataframe tbody tr th {\n",
       "        vertical-align: top;\n",
       "    }\n",
       "\n",
       "    .dataframe thead th {\n",
       "        text-align: right;\n",
       "    }\n",
       "</style>\n",
       "<table border=\"1\" class=\"dataframe\">\n",
       "  <thead>\n",
       "    <tr style=\"text-align: right;\">\n",
       "      <th></th>\n",
       "      <th>Date</th>\n",
       "      <th>Qty</th>\n",
       "      <th>MRP</th>\n",
       "      <th>SP</th>\n",
       "      <th>Promotions</th>\n",
       "      <th>Store_Code</th>\n",
       "      <th>Sales_Qty</th>\n",
       "    </tr>\n",
       "  </thead>\n",
       "  <tbody>\n",
       "    <tr>\n",
       "      <th>0</th>\n",
       "      <td>2015-12-13</td>\n",
       "      <td>81</td>\n",
       "      <td>0</td>\n",
       "      <td>0</td>\n",
       "      <td>0</td>\n",
       "      <td>Store1</td>\n",
       "      <td>0</td>\n",
       "    </tr>\n",
       "    <tr>\n",
       "      <th>1</th>\n",
       "      <td>2015-12-20</td>\n",
       "      <td>346</td>\n",
       "      <td>0</td>\n",
       "      <td>0</td>\n",
       "      <td>0</td>\n",
       "      <td>Store1</td>\n",
       "      <td>0</td>\n",
       "    </tr>\n",
       "    <tr>\n",
       "      <th>2</th>\n",
       "      <td>2015-12-27</td>\n",
       "      <td>0</td>\n",
       "      <td>0</td>\n",
       "      <td>0</td>\n",
       "      <td>0</td>\n",
       "      <td>Store1</td>\n",
       "      <td>0</td>\n",
       "    </tr>\n",
       "    <tr>\n",
       "      <th>3</th>\n",
       "      <td>2016-01-03</td>\n",
       "      <td>130</td>\n",
       "      <td>958.333</td>\n",
       "      <td>826.674</td>\n",
       "      <td>0.137383</td>\n",
       "      <td>Store1</td>\n",
       "      <td>60</td>\n",
       "    </tr>\n",
       "    <tr>\n",
       "      <th>4</th>\n",
       "      <td>2016-01-10</td>\n",
       "      <td>0</td>\n",
       "      <td>812.976</td>\n",
       "      <td>721.057</td>\n",
       "      <td>0.113065</td>\n",
       "      <td>Store1</td>\n",
       "      <td>72</td>\n",
       "    </tr>\n",
       "  </tbody>\n",
       "</table>\n",
       "</div>"
      ],
      "text/plain": [
       "        Date  Qty      MRP       SP Promotions Store_Code Sales_Qty\n",
       "0 2015-12-13   81        0        0          0     Store1         0\n",
       "1 2015-12-20  346        0        0          0     Store1         0\n",
       "2 2015-12-27    0        0        0          0     Store1         0\n",
       "3 2016-01-03  130  958.333  826.674   0.137383     Store1        60\n",
       "4 2016-01-10    0  812.976  721.057   0.113065     Store1        72"
      ]
     },
     "execution_count": 173,
     "metadata": {},
     "output_type": "execute_result"
    }
   ],
   "source": [
    "Store1_primary_secondary = pd.merge(Store1_primary_sales_week_nooutlier,Store1_secondary_sales_week_nooutlier,how='left',on=['Date'])\n",
    "Store1_primary_secondary = Store1_primary_secondary.replace(np.nan,'0',regex=True)\n",
    "Store1_primary_secondary['Store_Code'] = 'Store1'\n",
    "Store1_primary_secondary.head()\n"
   ]
  },
  {
   "cell_type": "code",
   "execution_count": 118,
   "metadata": {},
   "outputs": [
    {
     "data": {
      "text/plain": [
       "Date          datetime64[ns]\n",
       "Qty                    int64\n",
       "MRP                   object\n",
       "SP                    object\n",
       "Promotions            object\n",
       "Store_Code            object\n",
       "Sales_Qty             object\n",
       "dtype: object"
      ]
     },
     "execution_count": 118,
     "metadata": {},
     "output_type": "execute_result"
    }
   ],
   "source": [
    "Store1_primary_secondary.dtypes"
   ]
  },
  {
   "cell_type": "markdown",
   "metadata": {},
   "source": [
    "Note convert all to int types"
   ]
  },
  {
   "cell_type": "code",
   "execution_count": 169,
   "metadata": {},
   "outputs": [
    {
     "data": {
      "text/plain": [
       "Date          datetime64[ns]\n",
       "Qty                    int64\n",
       "MRP                   object\n",
       "SP                    object\n",
       "Promotions            object\n",
       "Store_Code            object\n",
       "Sales_Qty              int32\n",
       "dtype: object"
      ]
     },
     "execution_count": 169,
     "metadata": {},
     "output_type": "execute_result"
    }
   ],
   "source": [
    "Store1_primary_secondary['Sales_Qty'] = Store1_primary_secondary['Sales_Qty'].astype(int)\n",
    "Store1_primary_secondary.dtypes"
   ]
  },
  {
   "cell_type": "markdown",
   "metadata": {},
   "source": [
    "# Closing Inventory calculations for Store1"
   ]
  },
  {
   "cell_type": "markdown",
   "metadata": {},
   "source": [
    "Estimation for closing inventory :  \n",
    "We do not have data for secondary sales for December 2015 , for those weeks data is fill with zeros.  \n"
   ]
  },
  {
   "cell_type": "code",
   "execution_count": null,
   "metadata": {},
   "outputs": [],
   "source": [
    "temp = []\n",
    "for i in range(len(Store1_primary_secondary)):\n",
    "    #print(Store1_primary_secondary.loc[:i,'Qty'])\n",
    "    if i == 0:\n",
    "        temp.append(Store1_primary_secondary.loc[:i,'Qty'][0])\n",
    "        #print(t1[0])\n",
    "    else:\n",
    "        last = int(temp[i-1])\n",
    "        a = int(list(Store1_primary_secondary.loc[i:i,'Sales_Qty'])[0])\n",
    "        b = int(list(Store1_primary_secondary.loc[i:i,'Qty'])[0])\n",
    "        \n",
    "        result = last - a + b\n",
    "        print(result)\n",
    "        temp.append(result)\n",
    "        #temp.append(last ) # - list(Store1_primary_secondary.loc[i:i,'Sales_Qty'])[0] ) #+ list(Store1_primary_secondary.loc[i:i,'Qty'])[0])\n",
    "        #temp.append(temp[i-1] - Store1_primary_secondary.loc[:i,'Sales_Qty'] ) #+ Store1_primary_secondary.loc[:i,'Qty'])"
   ]
  },
  {
   "cell_type": "code",
   "execution_count": 195,
   "metadata": {},
   "outputs": [],
   "source": [
    "Store1_primary_secondary['closing-inventory'] = temp"
   ]
  },
  {
   "cell_type": "code",
   "execution_count": 196,
   "metadata": {},
   "outputs": [
    {
     "data": {
      "text/html": [
       "<div>\n",
       "<style scoped>\n",
       "    .dataframe tbody tr th:only-of-type {\n",
       "        vertical-align: middle;\n",
       "    }\n",
       "\n",
       "    .dataframe tbody tr th {\n",
       "        vertical-align: top;\n",
       "    }\n",
       "\n",
       "    .dataframe thead th {\n",
       "        text-align: right;\n",
       "    }\n",
       "</style>\n",
       "<table border=\"1\" class=\"dataframe\">\n",
       "  <thead>\n",
       "    <tr style=\"text-align: right;\">\n",
       "      <th></th>\n",
       "      <th>Date</th>\n",
       "      <th>Qty</th>\n",
       "      <th>MRP</th>\n",
       "      <th>SP</th>\n",
       "      <th>Promotions</th>\n",
       "      <th>Store_Code</th>\n",
       "      <th>Sales_Qty</th>\n",
       "      <th>closing-inventory</th>\n",
       "    </tr>\n",
       "  </thead>\n",
       "  <tbody>\n",
       "    <tr>\n",
       "      <th>0</th>\n",
       "      <td>2015-12-13</td>\n",
       "      <td>81</td>\n",
       "      <td>0</td>\n",
       "      <td>0</td>\n",
       "      <td>0</td>\n",
       "      <td>Store1</td>\n",
       "      <td>0</td>\n",
       "      <td>81</td>\n",
       "    </tr>\n",
       "    <tr>\n",
       "      <th>1</th>\n",
       "      <td>2015-12-20</td>\n",
       "      <td>346</td>\n",
       "      <td>0</td>\n",
       "      <td>0</td>\n",
       "      <td>0</td>\n",
       "      <td>Store1</td>\n",
       "      <td>0</td>\n",
       "      <td>427</td>\n",
       "    </tr>\n",
       "    <tr>\n",
       "      <th>2</th>\n",
       "      <td>2015-12-27</td>\n",
       "      <td>0</td>\n",
       "      <td>0</td>\n",
       "      <td>0</td>\n",
       "      <td>0</td>\n",
       "      <td>Store1</td>\n",
       "      <td>0</td>\n",
       "      <td>427</td>\n",
       "    </tr>\n",
       "    <tr>\n",
       "      <th>3</th>\n",
       "      <td>2016-01-03</td>\n",
       "      <td>130</td>\n",
       "      <td>958.333</td>\n",
       "      <td>826.674</td>\n",
       "      <td>0.137383</td>\n",
       "      <td>Store1</td>\n",
       "      <td>60</td>\n",
       "      <td>497</td>\n",
       "    </tr>\n",
       "    <tr>\n",
       "      <th>4</th>\n",
       "      <td>2016-01-10</td>\n",
       "      <td>0</td>\n",
       "      <td>812.976</td>\n",
       "      <td>721.057</td>\n",
       "      <td>0.113065</td>\n",
       "      <td>Store1</td>\n",
       "      <td>72</td>\n",
       "      <td>425</td>\n",
       "    </tr>\n",
       "  </tbody>\n",
       "</table>\n",
       "</div>"
      ],
      "text/plain": [
       "        Date  Qty      MRP       SP Promotions Store_Code Sales_Qty  \\\n",
       "0 2015-12-13   81        0        0          0     Store1         0   \n",
       "1 2015-12-20  346        0        0          0     Store1         0   \n",
       "2 2015-12-27    0        0        0          0     Store1         0   \n",
       "3 2016-01-03  130  958.333  826.674   0.137383     Store1        60   \n",
       "4 2016-01-10    0  812.976  721.057   0.113065     Store1        72   \n",
       "\n",
       "   closing-inventory  \n",
       "0                 81  \n",
       "1                427  \n",
       "2                427  \n",
       "3                497  \n",
       "4                425  "
      ]
     },
     "execution_count": 196,
     "metadata": {},
     "output_type": "execute_result"
    }
   ],
   "source": [
    "Store1_primary_secondary.head()"
   ]
  },
  {
   "cell_type": "markdown",
   "metadata": {},
   "source": [
    "# Average out of Stock percentage"
   ]
  },
  {
   "cell_type": "code",
   "execution_count": 209,
   "metadata": {},
   "outputs": [
    {
     "data": {
      "text/html": [
       "<div>\n",
       "<style scoped>\n",
       "    .dataframe tbody tr th:only-of-type {\n",
       "        vertical-align: middle;\n",
       "    }\n",
       "\n",
       "    .dataframe tbody tr th {\n",
       "        vertical-align: top;\n",
       "    }\n",
       "\n",
       "    .dataframe thead th {\n",
       "        text-align: right;\n",
       "    }\n",
       "</style>\n",
       "<table border=\"1\" class=\"dataframe\">\n",
       "  <thead>\n",
       "    <tr style=\"text-align: right;\">\n",
       "      <th></th>\n",
       "      <th>Date</th>\n",
       "      <th>Store_Code</th>\n",
       "      <th>SKU_Code</th>\n",
       "      <th>year</th>\n",
       "      <th>month</th>\n",
       "      <th>day</th>\n",
       "      <th>dayofyear</th>\n",
       "      <th>week</th>\n",
       "      <th>weekofyear</th>\n",
       "      <th>quarter</th>\n",
       "    </tr>\n",
       "  </thead>\n",
       "  <tbody>\n",
       "    <tr>\n",
       "      <th>0</th>\n",
       "      <td>2016-01-01</td>\n",
       "      <td>Store1</td>\n",
       "      <td>610221</td>\n",
       "      <td>2016</td>\n",
       "      <td>1</td>\n",
       "      <td>1</td>\n",
       "      <td>1</td>\n",
       "      <td>53</td>\n",
       "      <td>53</td>\n",
       "      <td>1</td>\n",
       "    </tr>\n",
       "    <tr>\n",
       "      <th>1</th>\n",
       "      <td>2016-01-01</td>\n",
       "      <td>Store1</td>\n",
       "      <td>614466</td>\n",
       "      <td>2016</td>\n",
       "      <td>1</td>\n",
       "      <td>1</td>\n",
       "      <td>1</td>\n",
       "      <td>53</td>\n",
       "      <td>53</td>\n",
       "      <td>1</td>\n",
       "    </tr>\n",
       "    <tr>\n",
       "      <th>2</th>\n",
       "      <td>2016-01-01</td>\n",
       "      <td>Store1</td>\n",
       "      <td>603738</td>\n",
       "      <td>2016</td>\n",
       "      <td>1</td>\n",
       "      <td>1</td>\n",
       "      <td>1</td>\n",
       "      <td>53</td>\n",
       "      <td>53</td>\n",
       "      <td>1</td>\n",
       "    </tr>\n",
       "    <tr>\n",
       "      <th>3</th>\n",
       "      <td>2016-01-01</td>\n",
       "      <td>Store1</td>\n",
       "      <td>603540</td>\n",
       "      <td>2016</td>\n",
       "      <td>1</td>\n",
       "      <td>1</td>\n",
       "      <td>1</td>\n",
       "      <td>53</td>\n",
       "      <td>53</td>\n",
       "      <td>1</td>\n",
       "    </tr>\n",
       "    <tr>\n",
       "      <th>4</th>\n",
       "      <td>2016-01-01</td>\n",
       "      <td>Store1</td>\n",
       "      <td>610371</td>\n",
       "      <td>2016</td>\n",
       "      <td>1</td>\n",
       "      <td>1</td>\n",
       "      <td>1</td>\n",
       "      <td>53</td>\n",
       "      <td>53</td>\n",
       "      <td>1</td>\n",
       "    </tr>\n",
       "  </tbody>\n",
       "</table>\n",
       "</div>"
      ],
      "text/plain": [
       "        Date Store_Code  SKU_Code  year  month  day  dayofyear  week  \\\n",
       "0 2016-01-01     Store1    610221  2016      1    1          1    53   \n",
       "1 2016-01-01     Store1    614466  2016      1    1          1    53   \n",
       "2 2016-01-01     Store1    603738  2016      1    1          1    53   \n",
       "3 2016-01-01     Store1    603540  2016      1    1          1    53   \n",
       "4 2016-01-01     Store1    610371  2016      1    1          1    53   \n",
       "\n",
       "   weekofyear  quarter  \n",
       "0          53        1  \n",
       "1          53        1  \n",
       "2          53        1  \n",
       "3          53        1  \n",
       "4          53        1  "
      ]
     },
     "execution_count": 209,
     "metadata": {},
     "output_type": "execute_result"
    }
   ],
   "source": [
    "Store = secondary_sales['Store_Code'] == 'Store1'\n",
    "Store1_second_sales = secondary_sales[Store]\n",
    "Store1_second_sales = Store1_second_sales[['Store_Code','SKU_Code']]\n",
    "Store1_second_sales.reset_index(inplace=True)\n",
    "\n",
    "column_1 = Store1_second_sales['Date']\n",
    "\n",
    "temp = pd.DataFrame({\"year\": column_1.dt.year,\n",
    "              \"month\": column_1.dt.month,\n",
    "              \"day\": column_1.dt.day,\n",
    "              #\"hour\": column_1.dt.hour,\n",
    "              \"dayofyear\": column_1.dt.dayofyear,\n",
    "              \"week\": column_1.dt.week,\n",
    "              \"weekofyear\": column_1.dt.weekofyear,\n",
    "              #\"dayofweek\": column_1.dt.dayofweek,\n",
    "              #\"weekday\": column_1.dt.weekday,\n",
    "              \"quarter\": column_1.dt.quarter,\n",
    "             })\n",
    "\n",
    "#All the result for store1 and Category 1 only\n",
    "\n",
    "Store1_second_sales.reset_index(drop=True, inplace=True)\n",
    "temp.reset_index(drop=True, inplace=True)\n",
    "Store1_second_sales = pd.concat([Store1_second_sales,temp],axis=1)\n",
    "Store1_second_sales.head()"
   ]
  },
  {
   "cell_type": "code",
   "execution_count": 240,
   "metadata": {},
   "outputs": [],
   "source": [
    "year_list =[2016,2017]\n",
    "list_31 = [1,3,5,7,8,10,12]\n",
    "list_30 = [4,6,9,11]\n",
    "temp = []\n",
    "for i in year_list:\n",
    "    year = Store1_second_sales['year'] == i\n",
    "    Store1_second_sales_year = Store1_second_sales[year]\n",
    "    for j in range(1,13):\n",
    "        month = Store1_second_sales_year['month'] == j\n",
    "        Store1_second_sales_year_month = Store1_second_sales_year[month]\n",
    "        month_count = len(Store1_second_sales_year_month['SKU_Code'].value_counts())\n",
    "        if i == 2016 & j == 2:\n",
    "            #For leap year ,29 Days\n",
    "            for k in range(1,30):\n",
    "                day = Store1_second_sales_year_month['day'] == k\n",
    "                Store1_second_sales_year_month_day = Store1_second_sales_year_month[day]\n",
    "                day_count = len(Store1_second_sales_year_month_day['SKU_Code'].unique())\n",
    "                result = 1 - day_count/month_count\n",
    "                temp.append(result)\n",
    "                #Store1_second_sales_year\n",
    "                #Store1_second_sales_year_month_day.head()\n",
    "        if j == 2017 & j == 2:\n",
    "            for k in range(1,29):\n",
    "                day = Store1_second_sales_year_month['day'] == k\n",
    "                Store1_second_sales_year_month_day = Store1_second_sales_year_month[day]\n",
    "                day_count = len(Store1_second_sales_year_month_day['SKU_Code'].unique())\n",
    "                result = 1 - day_count/month_count\n",
    "                temp.append(result)\n",
    "        if j in list_31:\n",
    "            for k in range(1,32):\n",
    "                day = Store1_second_sales_year_month['day'] == k\n",
    "                Store1_second_sales_year_month_day = Store1_second_sales_year_month[day]\n",
    "                day_count = len(Store1_second_sales_year_month_day['SKU_Code'].unique())\n",
    "                result = 1 - day_count/month_count\n",
    "                temp.append(result)\n",
    "        if j in list_30:\n",
    "            for k in range(1,31):\n",
    "                day = Store1_second_sales_year_month['day'] == k\n",
    "                Store1_second_sales_year_month_day = Store1_second_sales_year_month[day]\n",
    "                \n",
    "                day_count = len(Store1_second_sales_year_month_day['SKU_Code'].unique())\n",
    "                result = 1 - day_count/month_count\n",
    "                temp.append(result)"
   ]
  },
  {
   "cell_type": "code",
   "execution_count": 242,
   "metadata": {},
   "outputs": [
    {
     "data": {
      "text/plain": [
       "674"
      ]
     },
     "execution_count": 242,
     "metadata": {},
     "output_type": "execute_result"
    }
   ],
   "source": [
    "len(temp)"
   ]
  },
  {
   "cell_type": "code",
   "execution_count": 244,
   "metadata": {},
   "outputs": [
    {
     "data": {
      "text/plain": [
       "675"
      ]
     },
     "execution_count": 244,
     "metadata": {},
     "output_type": "execute_result"
    }
   ],
   "source": [
    "len(Store1_second_sales['Date'].value_counts())"
   ]
  },
  {
   "cell_type": "code",
   "execution_count": 245,
   "metadata": {},
   "outputs": [],
   "source": [
    "data = pd.date_range('1/1/2016', periods = 731, freq ='D') "
   ]
  },
  {
   "cell_type": "code",
   "execution_count": 251,
   "metadata": {},
   "outputs": [],
   "source": [
    "data = pd.DataFrame(data)\n",
    "data.columns=['Date']\n",
    "diff = set(Store1_second_sales['Date']) - set(data['Date'])"
   ]
  },
  {
   "cell_type": "code",
   "execution_count": 254,
   "metadata": {},
   "outputs": [
    {
     "ename": "ValueError",
     "evalue": "Can only compare identically-labeled Series objects",
     "output_type": "error",
     "traceback": [
      "\u001b[1;31m---------------------------------------------------------------------------\u001b[0m",
      "\u001b[1;31mValueError\u001b[0m                                Traceback (most recent call last)",
      "\u001b[1;32m<ipython-input-254-d14a17d6c12a>\u001b[0m in \u001b[0;36m<module>\u001b[1;34m()\u001b[0m\n\u001b[0;32m      1\u001b[0m \u001b[0mdf\u001b[0m \u001b[1;33m=\u001b[0m \u001b[0mpd\u001b[0m\u001b[1;33m.\u001b[0m\u001b[0mDataFrame\u001b[0m\u001b[1;33m(\u001b[0m\u001b[1;33m)\u001b[0m\u001b[1;33m\u001b[0m\u001b[0m\n\u001b[1;32m----> 2\u001b[1;33m \u001b[0mdf\u001b[0m\u001b[1;33m.\u001b[0m\u001b[0mwhere\u001b[0m\u001b[1;33m(\u001b[0m\u001b[0mStore1_second_sales\u001b[0m\u001b[1;33m.\u001b[0m\u001b[0mDate\u001b[0m\u001b[1;33m==\u001b[0m\u001b[0mdata\u001b[0m\u001b[1;33m.\u001b[0m\u001b[0mDate\u001b[0m\u001b[1;33m)\u001b[0m\u001b[1;33m\u001b[0m\u001b[0m\n\u001b[0m",
      "\u001b[1;32mC:\\Program Files (x86)\\Microsoft Visual Studio\\Shared\\Anaconda3_64\\lib\\site-packages\\pandas\\core\\ops.py\u001b[0m in \u001b[0;36mwrapper\u001b[1;34m(self, other, axis)\u001b[0m\n\u001b[0;32m   1185\u001b[0m \u001b[1;33m\u001b[0m\u001b[0m\n\u001b[0;32m   1186\u001b[0m         \u001b[1;32melif\u001b[0m \u001b[0misinstance\u001b[0m\u001b[1;33m(\u001b[0m\u001b[0mother\u001b[0m\u001b[1;33m,\u001b[0m \u001b[0mABCSeries\u001b[0m\u001b[1;33m)\u001b[0m \u001b[1;32mand\u001b[0m \u001b[1;32mnot\u001b[0m \u001b[0mself\u001b[0m\u001b[1;33m.\u001b[0m\u001b[0m_indexed_same\u001b[0m\u001b[1;33m(\u001b[0m\u001b[0mother\u001b[0m\u001b[1;33m)\u001b[0m\u001b[1;33m:\u001b[0m\u001b[1;33m\u001b[0m\u001b[0m\n\u001b[1;32m-> 1187\u001b[1;33m             raise ValueError(\"Can only compare identically-labeled \"\n\u001b[0m\u001b[0;32m   1188\u001b[0m                              \"Series objects\")\n\u001b[0;32m   1189\u001b[0m \u001b[1;33m\u001b[0m\u001b[0m\n",
      "\u001b[1;31mValueError\u001b[0m: Can only compare identically-labeled Series objects"
     ]
    }
   ],
   "source": []
  }
 ],
 "metadata": {
  "kernelspec": {
   "display_name": "Python 3",
   "language": "python",
   "name": "python3"
  },
  "language_info": {
   "codemirror_mode": {
    "name": "ipython",
    "version": 3
   },
   "file_extension": ".py",
   "mimetype": "text/x-python",
   "name": "python",
   "nbconvert_exporter": "python",
   "pygments_lexer": "ipython3",
   "version": "3.6.5"
  }
 },
 "nbformat": 4,
 "nbformat_minor": 2
}
